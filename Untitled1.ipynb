{
  "nbformat": 4,
  "nbformat_minor": 0,
  "metadata": {
    "colab": {
      "name": "Untitled1.ipynb",
      "provenance": [],
      "authorship_tag": "ABX9TyOqYV7j1e5VDLRRP0iO1Mu8",
      "include_colab_link": true
    },
    "kernelspec": {
      "name": "python3",
      "display_name": "Python 3"
    }
  },
  "cells": [
    {
      "cell_type": "markdown",
      "metadata": {
        "id": "view-in-github",
        "colab_type": "text"
      },
      "source": [
        "<a href=\"https://colab.research.google.com/github/Barashek-1507/SRDandA/blob/master/Untitled1.ipynb\" target=\"_parent\"><img src=\"https://colab.research.google.com/assets/colab-badge.svg\" alt=\"Open In Colab\"/></a>"
      ]
    },
    {
      "cell_type": "code",
      "metadata": {
        "id": "RB0p6t9SBYqe"
      },
      "source": [
        "import torch\n",
        "import random\n",
        "import numpy as np\n",
        "from sklearn.model_selection import train_test_split\n",
        "from sklearn.datasets import load_wine"
      ],
      "execution_count": null,
      "outputs": []
    },
    {
      "cell_type": "code",
      "metadata": {
        "id": "u46nfbh5v_W-"
      },
      "source": [
        "wine = load_wine()\n",
        "features =  13 # use 13 features\n",
        "\n",
        "X_train, X_test, y_train, y_test = train_test_split(\n",
        "    wine.data[:, :features], \n",
        "    wine.target, \n",
        "    test_size=0.39, \n",
        "    shuffle=True)\n",
        "\n",
        "X_train = torch.FloatTensor(X_train)\n",
        "X_test = torch.FloatTensor(X_test)\n",
        "y_train = torch.LongTensor(y_train)\n",
        "y_test = torch.LongTensor(y_test)"
      ],
      "execution_count": null,
      "outputs": []
    },
    {
      "cell_type": "code",
      "metadata": {
        "id": "m65JUj5iwFB3"
      },
      "source": [
        "class WineNet(torch.nn.Module):\n",
        "    def __init__(self,n_input, n_hidden_neurons):\n",
        "        super(WineNet, self).__init__()\n",
        "        self.fc1 = torch.nn.Linear(n_input, n_hidden_neurons)\n",
        "        self.activ1 = torch.nn.Sigmoid()\n",
        "        self.fc2 = torch.nn.Linear(n_hidden_neurons, n_hidden_neurons)\n",
        "        self.activ2 = torch.nn.Tanh()\n",
        "        self.fc3 = torch.nn.Linear(n_hidden_neurons, 3)\n",
        "        self.sm = torch.nn.Softmax(dim=1)\n",
        "        \n",
        "    def forward(self, x):\n",
        "        x = self.fc1(x)\n",
        "        x = self.activ1(x)\n",
        "        x = self.fc2(x)\n",
        "        x = self.activ2(x)\n",
        "        x = self.fc3(x)\n",
        "        return x\n",
        "\n",
        "    def inference(self, x):\n",
        "        x = self.forward(x)\n",
        "        x = self.sm(x)\n",
        "        return x\n",
        "    \n",
        "n_input =  13\n",
        "n_hidden_neurons =  10\n",
        "wine_net = WineNet(n_input, n_hidden_neurons)"
      ],
      "execution_count": null,
      "outputs": []
    },
    {
      "cell_type": "code",
      "metadata": {
        "id": "LZgRtYsbwHZb"
      },
      "source": [
        "loss = torch.nn.CrossEntropyLoss()\n",
        "\n",
        "optimizer = torch.optim.Adam(wine_net.parameters(), \n",
        "                             lr=1.0e-3)"
      ],
      "execution_count": null,
      "outputs": []
    },
    {
      "cell_type": "code",
      "metadata": {
        "id": "PvwLHiJywKAF",
        "outputId": "11ee7b94-f529-49f0-b654-f3132e3dc9c2",
        "colab": {
          "base_uri": "https://localhost:8080/"
        }
      },
      "source": [
        "batch_size = 10\n",
        "\n",
        "for epoch in range(5000):\n",
        "    order = np.random.permutation(len(X_train))\n",
        "    for start_index in range(0, len(X_train), batch_size):\n",
        "        optimizer.zero_grad()\n",
        "        \n",
        "        batch_indexes = order[start_index:start_index+batch_size]\n",
        "        \n",
        "        x_batch = X_train[batch_indexes]\n",
        "        y_batch = y_train[batch_indexes]\n",
        "        \n",
        "        preds = wine_net.forward(x_batch) \n",
        "        \n",
        "        loss_value = loss(preds, y_batch)\n",
        "        loss_value.backward()\n",
        "        \n",
        "        optimizer.step()\n",
        "        \n",
        "    if epoch % 100 == 0:\n",
        "        test_preds = wine_net.forward(X_test)\n",
        "        test_preds = test_preds.argmax(dim=1)\n",
        "        print((test_preds == y_test).float().mean())"
      ],
      "execution_count": null,
      "outputs": [
        {
          "output_type": "stream",
          "text": [
            "tensor(0.2857)\n",
            "tensor(0.8571)\n",
            "tensor(0.9286)\n",
            "tensor(0.9429)\n",
            "tensor(0.9571)\n",
            "tensor(0.9429)\n",
            "tensor(0.9429)\n",
            "tensor(0.9429)\n",
            "tensor(0.9429)\n",
            "tensor(0.9429)\n",
            "tensor(0.9429)\n",
            "tensor(0.9143)\n",
            "tensor(0.9143)\n",
            "tensor(0.9143)\n",
            "tensor(0.9286)\n",
            "tensor(0.9143)\n",
            "tensor(0.9286)\n",
            "tensor(0.9000)\n",
            "tensor(0.9143)\n",
            "tensor(0.8857)\n",
            "tensor(0.9143)\n",
            "tensor(0.9286)\n",
            "tensor(0.9143)\n",
            "tensor(0.9143)\n",
            "tensor(0.9286)\n",
            "tensor(0.9143)\n",
            "tensor(0.9143)\n",
            "tensor(0.9143)\n",
            "tensor(0.9143)\n",
            "tensor(0.9143)\n",
            "tensor(0.9571)\n",
            "tensor(0.9000)\n",
            "tensor(0.9143)\n",
            "tensor(0.9143)\n",
            "tensor(0.9429)\n",
            "tensor(0.9429)\n",
            "tensor(0.9286)\n",
            "tensor(0.9429)\n",
            "tensor(0.9429)\n",
            "tensor(0.9429)\n",
            "tensor(0.9429)\n",
            "tensor(0.9429)\n",
            "tensor(0.9429)\n",
            "tensor(0.9857)\n",
            "tensor(0.9429)\n",
            "tensor(0.9429)\n",
            "tensor(0.9429)\n",
            "tensor(0.9429)\n",
            "tensor(0.9429)\n",
            "tensor(0.9429)\n"
          ],
          "name": "stdout"
        }
      ]
    },
    {
      "cell_type": "code",
      "metadata": {
        "id": "gO2qxHbjwMKq",
        "outputId": "060906a0-fff8-4a8d-e0be-f659082f9469",
        "colab": {
          "base_uri": "https://localhost:8080/"
        }
      },
      "source": [
        "print(wine_net.fc1.in_features, np.asarray((test_preds == y_test).float().mean()) > 0.8)\n",
        "# need to get 13 True\n",
        "print((torch.LongTensor(wine.target) == torch.LongTensor([1]*wine.target.shape[0])).float().mean())"
      ],
      "execution_count": null,
      "outputs": [
        {
          "output_type": "stream",
          "text": [
            "13 True\n",
            "tensor(0.3989)\n"
          ],
          "name": "stdout"
        }
      ]
    }
  ]
}